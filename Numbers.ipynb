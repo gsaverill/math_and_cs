{
 "cells": [
  {
   "cell_type": "markdown",
   "id": "637d828e-c213-4607-a7e7-dd05473c99be",
   "metadata": {},
   "source": [
    "# Numbers"
   ]
  },
  {
   "cell_type": "markdown",
   "id": "d735d521-9698-4ccf-94bc-95ebdde55823",
   "metadata": {},
   "source": [
    "## The Natural Numbers, $\\mathbb{N}$"
   ]
  },
  {
   "cell_type": "markdown",
   "id": "f271e032-9a4b-4043-887d-141127649050",
   "metadata": {},
   "source": [
    "Any of the positive whole numbers 1, 2, 3 ... is called a natural number or a counting number (or a whole number).  The natural numbers are used to count separate objects. The collection of all counting numbers {1, 2, 3, ...}, called the set of natural numbers, is denoted $\\mathbb{N}$.  Some mathematicians choose to include the number zero in this set.\n",
    "\n",
    "An infinite set of objects whose elements can be arranged in a list akin to the list of natural numbers is said to be countable.  Not all infinite sets are countable.\n",
    "\n",
    "[From the entry for **natural number** in the Encyclopedia of Mathematics, 2005, James Tanton.]"
   ]
  },
  {
   "cell_type": "markdown",
   "id": "9a1c98a3-c97c-4660-ac8e-150858ec6ee7",
   "metadata": {},
   "source": [
    "## The Integers, $\\mathbb{Z}$ "
   ]
  },
  {
   "cell_type": "markdown",
   "id": "1c5e2757-fb8b-47d1-870c-62d776617d65",
   "metadata": {},
   "source": [
    "Any of the positive or negative whole numbers, or zero, is called an integer: ...,-3,-2,-1,0,1,2,3,...\n",
    "The set of integers is denoted $\\mathbb{Z}$ (from the German word Zablen for \"numbers\").\n",
    "\n",
    "German mathematcian Georg Cantor (1845-1918) showed that the set of integers is countable.\n",
    "\n",
    "[From the entry for **integer** in the Encyclopedia of Mathematics, 2005, James Tanton.]"
   ]
  },
  {
   "cell_type": "markdown",
   "id": "b8f0f9e5-bcbd-46d2-94cd-cc845f32b68b",
   "metadata": {},
   "source": [
    "## The Rationals, $\\mathbb{Q}$ "
   ]
  },
  {
   "cell_type": "markdown",
   "id": "ee7c42fa-fdd8-4308-b87e-3ccc0e7fe92a",
   "metadata": {},
   "source": [
    "Any number that can be expressed as a ratio, $\\Large\\frac{a}{b}$, of two integers a and b, with b not equal to zero, is called a rational number.  For example, $\\Large\\frac{2}{5}$ and $\\Large\\frac{-6}{2}$ (which is equivalent to -3) are rational numbers.  Every rational number is a fraction.  The set of all rational numbers is denoted $\\mathbb{Q}$ (for quotient, which means the result of dividing one integer by another).\n",
    "\n",
    "Any real number whose decimal representatioin eventially repeats in a cycle or terminates is a rational.\n",
    "\n",
    "Between any two rational numbers $\\Large\\frac{a}{b}$ and $\\Large\\frac{c}{d}$ lies another rational--their midpoint $\\Large\\frac{\\frac{a}{b} + \\frac{c}{d}}{2}$, for instance.  Infinitely many rational numbers lie between any two given rationals.\n",
    "\n",
    "Georg Cantor showed that the set of rational numbers is countable.\n",
    "\n",
    "[From the entry for **rational numbers** in the Encyclopedia of Mathematics, 2005, James Tanton.]"
   ]
  },
  {
   "cell_type": "markdown",
   "id": "38a0fc24-bcbf-48d7-a3fa-91ffdd24c4fe",
   "metadata": {},
   "source": [
    "### Rational Example $\\large\\frac{a}{b} = \\large\\frac{3}{1}$\n",
    "The quotent is an integer.  All digits to the right of the decimal point are zero."
   ]
  },
  {
   "cell_type": "code",
   "execution_count": 3,
   "id": "1fe56063-46d7-4dd7-8a8e-79a5c85e2aeb",
   "metadata": {},
   "outputs": [
    {
     "name": "stdout",
     "output_type": "stream",
     "text": [
      "3.000000000000000000000000000000000000000000000000000000000000000000000000000000000000000000000000000\n"
     ]
    }
   ],
   "source": [
    "import decimal\n",
    "D = decimal.Decimal\n",
    "\n",
    "with decimal.localcontext() as ctx:\n",
    "    \n",
    "    precision = 100          # desired total number of digits of precision\n",
    "    accuracy = precision - 1 # number of decimal places to print\n",
    "    \n",
    "    ctx.prec = precision\n",
    "    ctx.rounding = decimal.ROUND_FLOOR\n",
    "    print_format_string = '{:.' + str(accuracy) + 'f}'\n",
    "\n",
    "    a = D(3)\n",
    "    b = D(1)\n",
    "    quotient = a/b\n",
    "    \n",
    "    print(print_format_string.format(quotient))"
   ]
  },
  {
   "cell_type": "markdown",
   "id": "6da1d760-592e-4d41-92ab-a76b0ba81b5d",
   "metadata": {},
   "source": [
    "### Rational Example $\\large\\frac{a}{b} = \\large\\frac{1}{3}$\n",
    "The quotent has a single digit repeating forever to the right of the decimal point."
   ]
  },
  {
   "cell_type": "code",
   "execution_count": 4,
   "id": "6dc3d03c-5fe5-4288-9bfc-c1ab6df8eda3",
   "metadata": {},
   "outputs": [
    {
     "name": "stdout",
     "output_type": "stream",
     "text": [
      "0.3333333333333333333333333333333333333333333333333333333333333333333333333333333333333333333333333333\n"
     ]
    }
   ],
   "source": [
    "import decimal\n",
    "D = decimal.Decimal\n",
    "\n",
    "with decimal.localcontext() as ctx:\n",
    "    \n",
    "    precision = 100       # desired total number of digits of precision\n",
    "    accuracy = precision  # number of decimal places to print\n",
    "    \n",
    "    ctx.prec = precision\n",
    "    ctx.rounding = decimal.ROUND_FLOOR\n",
    "    print_format_string = '{:.' + str(accuracy) + 'f}'\n",
    "\n",
    "    a = D(1)\n",
    "    b = D(3)\n",
    "    quotient = a/b\n",
    "    \n",
    "    print(print_format_string.format(quotient))"
   ]
  },
  {
   "cell_type": "markdown",
   "id": "2c43254d-878e-4446-abb9-6ae869273714",
   "metadata": {},
   "source": [
    "### Rational Example $\\large\\frac{a}{b} = \\large\\frac{1}{8}$\n",
    "The quotent has three non-zero digits to the right of the decimal point."
   ]
  },
  {
   "cell_type": "code",
   "execution_count": 5,
   "id": "12d076ce-97ca-4d27-9f53-87ca3d4aee2d",
   "metadata": {},
   "outputs": [
    {
     "name": "stdout",
     "output_type": "stream",
     "text": [
      "0.1250000000000000000000000000000000000000000000000000000000000000000000000000000000000000000000000000\n"
     ]
    }
   ],
   "source": [
    "import decimal\n",
    "D = decimal.Decimal\n",
    "\n",
    "with decimal.localcontext() as ctx:\n",
    "    \n",
    "    precision = 100       # desired total number of digits of precision\n",
    "    accuracy = precision  # number of decimal places to print\n",
    "    \n",
    "    ctx.prec = precision\n",
    "    ctx.rounding = decimal.ROUND_FLOOR\n",
    "    print_format_string = '{:.' + str(accuracy) + 'f}'\n",
    "\n",
    "    a = D(1)\n",
    "    b = D(8)\n",
    "    quotient = a/b\n",
    "    \n",
    "    print(print_format_string.format(quotient))"
   ]
  },
  {
   "cell_type": "markdown",
   "id": "89f6b058-33ee-4dec-ad81-d4fdf5fd6db8",
   "metadata": {},
   "source": [
    "### Rational Example $\\large\\frac{a}{b} = \\large\\frac{10}{81}$\n",
    "The quotent has a 9-digit, infinitely-repeating pattern to the right of the decimal point."
   ]
  },
  {
   "cell_type": "code",
   "execution_count": 6,
   "id": "bccca2e7-956a-48f6-b57e-27924d32086e",
   "metadata": {},
   "outputs": [
    {
     "name": "stdout",
     "output_type": "stream",
     "text": [
      "0.1234567901234567901234567901234567901234567901234567901234567901234567901234567901234567901234567901\n"
     ]
    }
   ],
   "source": [
    "import decimal\n",
    "D = decimal.Decimal\n",
    "\n",
    "with decimal.localcontext() as ctx:\n",
    "    \n",
    "    precision = 100       # desired total number of digits of precision\n",
    "    accuracy = precision  # number of decimal places to print\n",
    "    \n",
    "    ctx.prec = precision\n",
    "    ctx.rounding = decimal.ROUND_FLOOR\n",
    "    print_format_string = '{:.' + str(accuracy) + 'f}'\n",
    "\n",
    "    a = D(10)\n",
    "    b = D(81)\n",
    "    quotient = a/b\n",
    "    \n",
    "    print(print_format_string.format(quotient))"
   ]
  },
  {
   "cell_type": "markdown",
   "id": "d6d2e922-2571-48b5-aa54-e99923647b98",
   "metadata": {},
   "source": [
    "### Rational Example: the midpoint between two rationals\n",
    "$\\Large\\frac{\\frac{a}{b} + \\frac{c}{d}}{2} = \\Large\\frac{\\frac{1}{8} + \\frac{1}{3}}{2}\n",
    "                                           = \\Large\\frac{\\frac{3}{24} + \\frac{8}{24}}{2}\n",
    "                                           = \\Large\\frac{\\frac{11}{24}}{2}\n",
    "                                           = \\Large\\frac{11}{48}$"
   ]
  },
  {
   "cell_type": "code",
   "execution_count": 7,
   "id": "9e997084-66f8-4f3e-85a8-f26d90bdd7ea",
   "metadata": {},
   "outputs": [
    {
     "name": "stdout",
     "output_type": "stream",
     "text": [
      "0.1250000000000000000000000000000000000000000000000000000000000000000000000000000000000000000000000000\n",
      "0.3333333333333333333333333333333333333333333333333333333333333333333333333333333333333333333333333333\n",
      "0.2291666666666666666666666666666666666666666666666666666666666666666666666666666666666666666666666666\n"
     ]
    }
   ],
   "source": [
    "import decimal\n",
    "D = decimal.Decimal\n",
    "\n",
    "with decimal.localcontext() as ctx:\n",
    "    \n",
    "    precision = 100       # desired total number of digits of precision\n",
    "    accuracy = precision  # number of decimal places to print\n",
    "    \n",
    "    ctx.prec = precision\n",
    "    ctx.rounding = decimal.ROUND_FLOOR\n",
    "    print_format_string = '{:.' + str(accuracy) + 'f}'\n",
    "\n",
    "    a = D(1)\n",
    "    b = D(8)\n",
    "    quotient1 = a/b\n",
    "    print(print_format_string.format(quotient1))\n",
    "    \n",
    "    c = D(1)\n",
    "    d = D(3)\n",
    "    quotient2 = c/d\n",
    "    print(print_format_string.format(quotient2))\n",
    "\n",
    "    midpoint = (quotient1 + quotient2)/2\n",
    "    print(print_format_string.format(midpoint))\n",
    "    "
   ]
  },
  {
   "cell_type": "markdown",
   "id": "a17a7dff-8f30-4285-8841-5f6bdd8dd9d5",
   "metadata": {},
   "source": [
    "## Irrational Numbers"
   ]
  },
  {
   "cell_type": "markdown",
   "id": "244a1830-3799-4e73-ac4e-863ce998932c",
   "metadata": {},
   "source": [
    "Any number that cannot be expressed as a ratio of two integers is called an irrational number.  the irrational numbers are precisly those numbers whose decimal expansions do not terminate or fall into a repeating cycle.\n",
    "\n",
    "[From the entry for **irrational numbers** in the Encyclopedia of Mathematics, 2005, James Tanton.]"
   ]
  },
  {
   "cell_type": "markdown",
   "id": "c58dc2bf-17a1-48f0-bab2-1ef63ac754b9",
   "metadata": {},
   "source": [
    "### Irrational Example $\\sqrt{2}$\n",
    "The square root of two has an infinite number of digits to the right of the decimal point in a never-repeating, never-terminating sequence."
   ]
  },
  {
   "cell_type": "code",
   "execution_count": 8,
   "id": "59f52057-8a16-4d6e-bea0-59c1a2be8dc8",
   "metadata": {},
   "outputs": [
    {
     "name": "stdout",
     "output_type": "stream",
     "text": [
      "1.414213562373095048801688724209698078569671875376948073176679737990732478462107038850387534327641572735013846230912297024924836055850737212644121497099935831413222665927505592755799950501152782060571470109559971605970274534596862014728517418640889198609552329230484308714321450839762603627995251407989687253396546331808829640620615258352395054745750287759961729835575220337531857011354374603408498847160386899970699004815030544027790316454247823068492936918621580578463111596668713013015618568987237235288509264861249497715421833420428568606014682472077143585487415565706967765372022648544701585880162075847492265722600208558446652145839889394437092659180031138824646815708263010059485870400318648034219489727829064104507263688131373985525611732204024509122770022694112757362728049573810896750401836986836845072579936472906076299694138047565482372899718032680247442062926912485905218100445984215059112024944134172853147810580360337107730918286931471017111168391658172688941975871658215212822951848847208969463386289156288276595263514054226765323969461751129160240871551013515045538128756005263146801712740265396947024030051749531886292563138518816347800156936917688185237868405228783762938921430065586956868596459515550164472450983689603688732311438941557665104088391429233811320605243362948531704991577175622854974143899918802176243096520656421182731672625753959471725593463723863226148274262220867115583959992652117625269891754098815934864008345708518147223181420407042650905653233339843645786579679651926729239987536661721598257886026336361782749599421940377775368142621773879919455139723127406689832998989538672882285637869774966251996658352577619893932284534473569479496295216889148549253890475582883452609652409654288939453864662574492755638196441031697983306185201937938494005715633372054806854057586799967012137223947582142630658513221740883238294728761739364746783743196000159218880734785761725221186749042497736692920731109636972160893370866115673458533483329525467585164471075784860246360083444911481858765555428645512331421992631133251797060843655970435285641008791850076036100915946567067688360557174007675690509613671940132493560524018599910506210816359772643138060546701029356997104242510578174953105725593498445112692278034491350663756874776028316282960553242242695753452902883876844642917328277088831808702533985233812274999081237189254072647536785030482159180188616710897286922920119759988070381854333253646021108229927929307287178079988809917674177410898306080032631181642798823117154363869661702999934161614878686018045505553986913115186010386375325004558186044804075024119518430567453368361367459737442398855328517930896037389891517319587413442881784212502191695187559344438739618931454999990610758704909026088351763622474975785885836803745793115733980209998662218694992259591327642361941059210032802614987456659968887406795616739185957288864247346358588686449682238600698335264279905628316561391394255764906206518602164726303336297507569787060660685649816009271870929215313236828135698893709741650447459096053747279652447709409924123871061447054398674364733847745481910087288622214958952959118789214917983398108378827815306556231581036064867587303601450227320882935134138722768417667843690529428698490838455744579409598626074249954916802853077398938296036213353987532050919989360751390644449576845699347127636450716327915470159773354863893942325727754003826027478567417258095141630715959784981800944356037939098559016827215403458158152100493666295344882710729239660232163823826661262683050257278116945103537937156882336593229782319298606467978986409208560955814261436363100461559433255047449397593399912541953230093217530447653396470662761166175351875464620967634558738616488019884849747926404506544489691004079421181692579685756378488149898641685499491635761448404702103398921534237703723335311564594438970365316672194904935188290580630740134686264167247011065346349391640714628556798017793381442404526913706660977763878486623800339232437047411533187253190601916599645538115788841380843323210533767461812178014296092832411362752540887372905129407339479433061943956936702079429515878228349321931666411130154959469837897767434443539337709957134988407890850815892366070088658105470949790465722988880892461282816013133701029080290999745647849581545614648715516390502419857906131093458783306200262207372471676685455499904994085710809925759928893236615438271955005781625133038153146577907926868500806984428479152424275441026805756321565322061885751225113063937025362927161968251259192025216058701189596732244239267423734490764646727375347964598819149807931718002423855453886038368310800779182466462754117444250018727779518164383451463461299020763343017968554385631667723518389336667042222110939144930287963812839889311731308430042125550185498506529455637766031461255909104611384768282359592477228629042642736163264585443392877263860343149804896397363329754885925681149296836126725898573833216436663487023477302610106130507298611534129948808774473111229542652751653665911730142360626525869077198217037098104644360477226739282987415259306956206384710827408218490673723305874302970924289948173924407869375284401044399048520878851914193541512900681735170306938697059004742515765524807844736214410501620084544412225595620298472594035280190679806809830039645398568593045862526063779745355992774729906488874545124249607637801086390019105809287476472075110923860595019543228160208879621516233852161287522851802529287618325703717285740676394490982546442218465430880661058020158472840671263025459379890650816857137165668594130053319703659640337667414610495637651030836613489310947802681293557331890551970520184515039969098663152512411611192594055280856498931958983456233198368349488080617156243911286631279784837197895336901527760054980551663501978555711014055529763384127504468604647663183266116518206750120476699109872191044474403268943641595942792199442355371870429955924031409171284815854386600538571358363981630945240755700932516824344168240836197927337282521546224696153321702682995097908903459485887834943961620435842249739718711395892730509219705491717696160044558089942787888036916943289459514722672292612485069617316380941082186004528610269654757630431025602715231396948213551982140971654909731999283492567409749039229712634869341457493319804171807611196390227866407592243416776246623623891311027034330457636814112832132630858223945621959808661293999620123415617631817431242008901498384856048087986460839359649236651429681257731432291456871682762199611827826953157498380262465175905410397618128760421638613450221326272775661244113361077519555774950865636067378665062318564069912280187574178549466125327599769796059776059075648910666101583841720281853043211904465775255427754379872605488173619826758168628329526078993222668360283851351228105931859102864150815705631971731518313625024359041463212239217663398268936825315053005989154702909537193266207341123494743367884690201390497842852163414429214589558287847669394646426781221904978563635526336827805186009869924893778600239876916980765662194389854437080594643336233381058745816235475600136592435242657143083465545768002370814675732525470255074763747163506785159917369379325103268276062864591461820472148637037077192692682362333472037924596469181052613915308628029144096548256387309273042654466292904589606375191871146934536197332478957270703153093090192119919999361576500350398405406742538792752792272473356677060783791138448893626136765706026360031513295209539520285489738448625613492441470860708660267634997879342087583612194711699422384848259591430452810706260150896913530301772006271705440209066951491527459771970594769547409521028787255785688002219371774355811079393088338455864827729100862955456614130672123084874022712105868632338823741388442893815544464710575565146843570294663506289387356986868837648032651952841465351739530273612013742030098673983851432190043602898269829352939941412923058038456502270721681516194101144982630136490087704839848838609065336859905458389520318564804149327214239086516499943165920796595356943072311291162928679751715668890543932203569129332457020806719444049730494398140822782960279942454108316667592142483518272381720504103927428880155622338079614751243351473102128454594489944499600075243751957011668341744749079588209951783676802323651767497230148745774272599476096219843271483529861119027287358490521797590837419748602670605374623153003937521236786775284869219585713755426968482783631786110993368014391590597484285805451613023014397905701610889862777961075067333267604865492925139978139053588227689373220494148394013556035656044214017612060513180689198996260618483185340183623782172663758045524719626617492542285280457144204857834211322800852870420548899234127855481236761537707104254469868521991122835426634999712748366076246241820736466617128394748473280474430403344107200428727127567027956758242926271945458053002666489965079569778178621942172005237165369467704195111912704624836051130289046437751148694887849615118841471910001255883836660677208411235153558811267789571558590412576261601067513153580212427331871000635824954504099579407254798900316826512373119055668291519430537084893078691974282904903860372311609928342431712225099454715019286664878710795199518005463388384431548172463548024451803084527343100062137103462573306001234973744355818096567846464153390514656919324562353140577919369898842364718352537580525771331120079710406831549266540202604680681839143782721476906324246951712863673844313983337117615941869993466262345373452356794012416809229116360956372167452839170990914664850739205151605604737871061547021699607465693097944261214692561593425649401912298951473254471518126325836889728226283329524035970072786336460459470712417472946877570595815734996284809956783925547424044899188707106967524250774520122936081057414265323472406416214103335334055110452126175035902840374545918645047276243420717709297935401021409646450283683418040758608100140721619247717980985968111540446443728568959286831977797786934641598469745133917741537904877880830022058335046746555323028587325835\n"
     ]
    }
   ],
   "source": [
    "import decimal\n",
    "D = decimal.Decimal\n",
    "\n",
    "with decimal.localcontext() as ctx:\n",
    "    \n",
    "    precision = 10000      # desired total number of digits of precision\n",
    "    accuracy = precision - 1  # number of decimal places to print\n",
    "    \n",
    "    ctx.prec = precision\n",
    "    ctx.rounding = decimal.ROUND_FLOOR\n",
    "    print_format_string = '{:.' + str(accuracy) + 'f}'\n",
    "\n",
    "    square_root_of_2 = D(2).sqrt()\n",
    "    \n",
    "    print(print_format_string.format(square_root_of_2))"
   ]
  },
  {
   "cell_type": "markdown",
   "id": "ab41ccec-f30b-4dbf-bf9d-53754d945d77",
   "metadata": {},
   "source": [
    "### Irrational Example $\\pi$\n",
    "The constant $\\pi$ has an infinite number of digits to the right of the decimal point in a never-repeating, never-terminating sequence."
   ]
  },
  {
   "cell_type": "code",
   "execution_count": 9,
   "id": "79daa4e6-1055-4ac6-a446-07e27aeb42bc",
   "metadata": {},
   "outputs": [
    {
     "ename": "ModuleNotFoundError",
     "evalue": "No module named 'mpmath'",
     "output_type": "error",
     "traceback": [
      "\u001b[0;31m---------------------------------------------------------------------------\u001b[0m",
      "\u001b[0;31mModuleNotFoundError\u001b[0m                       Traceback (most recent call last)",
      "Cell \u001b[0;32mIn[9], line 1\u001b[0m\n\u001b[0;32m----> 1\u001b[0m \u001b[38;5;28;01mfrom\u001b[39;00m\u001b[38;5;250m \u001b[39m\u001b[38;5;21;01mmpmath\u001b[39;00m\u001b[38;5;250m \u001b[39m\u001b[38;5;28;01mimport\u001b[39;00m mp\n\u001b[1;32m      3\u001b[0m mp\u001b[38;5;241m.\u001b[39mdps \u001b[38;5;241m=\u001b[39m \u001b[38;5;241m10000\u001b[39m \u001b[38;5;66;03m# desired total number of digits of precision\u001b[39;00m\n\u001b[1;32m      4\u001b[0m \u001b[38;5;28mprint\u001b[39m(mp\u001b[38;5;241m.\u001b[39mpi)\n",
      "\u001b[0;31mModuleNotFoundError\u001b[0m: No module named 'mpmath'"
     ]
    }
   ],
   "source": [
    "from mpmath import mp\n",
    "    \n",
    "mp.dps = 10000 # desired total number of digits of precision\n",
    "print(mp.pi)"
   ]
  },
  {
   "cell_type": "markdown",
   "id": "ebd8a99a-8bbc-4dad-bb7e-fde57b64330a",
   "metadata": {},
   "source": [
    "## Real Numbers, $\\mathbb{R}$ "
   ]
  },
  {
   "cell_type": "markdown",
   "id": "0a9ec2a7-2be7-4715-a562-d4ab879e5592",
   "metadata": {},
   "source": [
    "A real number is any rational or any irrational number. Alternatively, one can define a real number to be any number that can be expressed as a decimal expansion.  The rational numbers are then those that have repeating expansions and the irrationals are those that do not.\n",
    "\n",
    "[From the entry for **real numbers** in the Encyclopedia of Mathematics, 2005, James Tanton.]"
   ]
  },
  {
   "cell_type": "markdown",
   "id": "d703875c-7c7a-4b60-a0d0-fe79179ae669",
   "metadata": {},
   "source": [
    "\n"
   ]
  },
  {
   "cell_type": "markdown",
   "id": "122dce20-1a34-41b1-b1d0-2a01b305b96d",
   "metadata": {},
   "source": [
    "## Python's Representation of Numbers"
   ]
  },
  {
   "cell_type": "markdown",
   "id": "5a07b81f-0b52-4d67-b1e2-48cea1bfd39e",
   "metadata": {},
   "source": [
    "### Python's Integer Datatype\n",
    "\n",
    "Integer (int): A limitless-digit non-decimal number used for math involving whole numbers."
   ]
  },
  {
   "cell_type": "code",
   "execution_count": null,
   "id": "83fd1ef2-9223-40d5-a20f-282bfd9d2e74",
   "metadata": {},
   "outputs": [],
   "source": [
    "a = 57\n",
    "b = 88\n",
    "c = a + b\n",
    "print(c)\n",
    "\n",
    "print(type(a))\n",
    "print(type(b))\n",
    "print(type(c))"
   ]
  },
  {
   "cell_type": "markdown",
   "id": "64ebc4ed-51e7-4ad0-b652-604dbd38bf44",
   "metadata": {},
   "source": [
    "What set or sets of numbers from the world of math does the Python integer datatype represent?"
   ]
  },
  {
   "cell_type": "markdown",
   "id": "b40f9326-ab20-41c9-964f-351cf3fe62ad",
   "metadata": {},
   "source": [
    "### Python's Float Datatype\n",
    "\n",
    "Floating point (float): A limitless-digit decimal number."
   ]
  },
  {
   "cell_type": "code",
   "execution_count": null,
   "id": "bd3a7fef-95a5-4011-a8fd-7e1d4111f92c",
   "metadata": {},
   "outputs": [],
   "source": [
    "e = 33.5689\n",
    "f = 0.03456\n",
    "g = e + f\n",
    "print(g)\n",
    "\n",
    "print(type(e))\n",
    "print(type(f))\n",
    "print(type(g))"
   ]
  },
  {
   "cell_type": "markdown",
   "id": "55640345-4c73-43c3-b99e-af96a2b883e5",
   "metadata": {},
   "source": [
    "What set or sets of numbers from the world of math does the Python floating point datapoint represent?"
   ]
  },
  {
   "cell_type": "markdown",
   "id": "5bcbf0b4-f20e-4302-b8e9-bbac6460bce4",
   "metadata": {},
   "source": [
    "Enter and run the ISPEED0.py program on your TI-84."
   ]
  },
  {
   "cell_type": "code",
   "execution_count": null,
   "id": "9882a851-b78a-458b-8a07-c5431171b035",
   "metadata": {},
   "outputs": [],
   "source": [
    "###########################################\n",
    "# ISPEED0.py\n",
    "#   A simple integer-add-loop meter.\n",
    "###########################################\n",
    "\n",
    "import time\n",
    "\n",
    "count_target = int(input('How high shall I count? '))\n",
    "\n",
    "start_time = time.monotonic()\n",
    "\n",
    "loop_count = 0\n",
    "while loop_count < count_target:\n",
    "    loop_count = loop_count + 1\n",
    "\n",
    "end_time = time.monotonic() \n",
    "run_time = end_time - start_time\n",
    "\n",
    "print(\"Counted to {:,} in {:.3f} seconds.\".format(loop_count, run_time))\n",
    "print(\"Count rate was {:.4E} counts per second.\".format(loop_count/run_time))"
   ]
  },
  {
   "cell_type": "markdown",
   "id": "4800f9f7-55e3-48dc-b486-43ffd3516c25",
   "metadata": {},
   "source": [
    "Starting with ISPEED0.py, create a new program, ISPEED1.py, that \n",
    "1) prompts the user for the number of seconds to run,\n",
    "2) counts for that amount of time, and\n",
    "3) reports the count total and the counts per second."
   ]
  },
  {
   "cell_type": "code",
   "execution_count": null,
   "id": "48600652-8ad0-4132-a8a1-0989a426e693",
   "metadata": {},
   "outputs": [],
   "source": []
  },
  {
   "cell_type": "code",
   "execution_count": null,
   "id": "b7ddfd11-0573-4609-b499-6f6661fc3d23",
   "metadata": {},
   "outputs": [],
   "source": []
  },
  {
   "cell_type": "code",
   "execution_count": null,
   "id": "dc9a28da-6361-401f-998d-ad25d1399658",
   "metadata": {},
   "outputs": [],
   "source": []
  },
  {
   "cell_type": "code",
   "execution_count": null,
   "id": "c078f3d9-3afe-41af-a1f1-1015bb4e7e05",
   "metadata": {},
   "outputs": [],
   "source": []
  }
 ],
 "metadata": {
  "kernelspec": {
   "display_name": "Python 3 (ipykernel)",
   "language": "python",
   "name": "python3"
  },
  "language_info": {
   "codemirror_mode": {
    "name": "ipython",
    "version": 3
   },
   "file_extension": ".py",
   "mimetype": "text/x-python",
   "name": "python",
   "nbconvert_exporter": "python",
   "pygments_lexer": "ipython3",
   "version": "3.13.2"
  }
 },
 "nbformat": 4,
 "nbformat_minor": 5
}
